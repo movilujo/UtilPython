{
 "cells": [
  {
   "cell_type": "code",
   "execution_count": 1,
   "metadata": {
    "collapsed": false
   },
   "outputs": [],
   "source": [
    "from Brazobot3GLv2 import Brazobot3GL\n",
    "from serial import Serial\n",
    "from ipywidgets import interact\n",
    "import misUtilidades\n",
    "import math"
   ]
  },
  {
   "cell_type": "code",
   "execution_count": 2,
   "metadata": {
    "collapsed": false
   },
   "outputs": [
    {
     "name": "stdout",
     "output_type": "stream",
     "text": [
      "Conectado!!!\n"
     ]
    }
   ],
   "source": [
    "#sp = Serial(\"/dev/cu.usbmodemfa131\", 19200)\n",
    "#sp = Serial(\"COM22\", 9600)\n",
    "puertoSP = misUtilidades.getSPArduino()\n",
    "sp = Serial(puertoSP, 19200)"
   ]
  },
  {
   "cell_type": "markdown",
   "metadata": {},
   "source": [
    "## Creamos nuestro brazo de 3 grados de libertad\n",
    "Los parámetro que introducimos son: Brazobot3GL(puertoSerial, Altura, [HayCabeceo], [GradosCabeceo])\n",
    "\n",
    "- **puertoSerial.-** Puerto al que está conectado arduino.\n",
    "- **Altura.-** distancia desde la base a la que se encuentra el primer servo o articulación\n",
    "- **[HayCabeceo].-** Indica si queremos que la tercera extremidad permanezca fija respecto al punto de vista del observador. Por defecto 'Y'\n",
    "- **[GradosCabeceo].-** Los grados en los que queremos queremos que permanezca la tercera extremidad. Por defecto 90.\n",
    "\n",
    "\n"
   ]
  },
  {
   "cell_type": "code",
   "execution_count": 3,
   "metadata": {
    "collapsed": false
   },
   "outputs": [],
   "source": [
    "RA3GL = Brazobot3GL(sp, 514, 'Y', 0)"
   ]
  },
  {
   "cell_type": "code",
   "execution_count": 4,
   "metadata": {
    "collapsed": false
   },
   "outputs": [],
   "source": [
    "RA3GL.setBrazo([misUtilidades.mapServo(60), misUtilidades.mapServo(160)],546)\n",
    "RA3GL.setAnteBrazo([misUtilidades.mapServo(20), misUtilidades.mapServo(180)],854)\n",
    "RA3GL.setMuneca([misUtilidades.mapServo(0), misUtilidades.mapServo(180)],455)"
   ]
  },
  {
   "cell_type": "code",
   "execution_count": 5,
   "metadata": {
    "collapsed": false
   },
   "outputs": [
    {
     "data": {
      "text/plain": [
       "3"
      ]
     },
     "execution_count": 5,
     "metadata": {},
     "output_type": "execute_result"
    }
   ],
   "source": [
    "RA3GL.getnGL()"
   ]
  },
  {
   "cell_type": "code",
   "execution_count": 6,
   "metadata": {
    "collapsed": false
   },
   "outputs": [
    {
     "data": {
      "text/plain": [
       "'Y'"
      ]
     },
     "execution_count": 6,
     "metadata": {},
     "output_type": "execute_result"
    }
   ],
   "source": [
    "RA3GL.esCabeceo"
   ]
  },
  {
   "cell_type": "code",
   "execution_count": 7,
   "metadata": {
    "collapsed": false
   },
   "outputs": [
    {
     "data": {
      "text/plain": [
       "0"
      ]
     },
     "execution_count": 7,
     "metadata": {},
     "output_type": "execute_result"
    }
   ],
   "source": [
    "RA3GL.cabeceo"
   ]
  },
  {
   "cell_type": "code",
   "execution_count": 8,
   "metadata": {
    "collapsed": false
   },
   "outputs": [
    {
     "data": {
      "text/plain": [
       "100"
      ]
     },
     "execution_count": 8,
     "metadata": {},
     "output_type": "execute_result"
    }
   ],
   "source": [
    "RA3GL.X"
   ]
  },
  {
   "cell_type": "code",
   "execution_count": 5,
   "metadata": {
    "collapsed": false
   },
   "outputs": [
    {
     "name": "stdout",
     "output_type": "stream",
     "text": [
      "En getIK\n",
      "Alfa: 1.57079632679\n",
      "Beta: 1.0\n",
      "AlfaBeta: 90.0\n",
      "a0\r\n",
      "Grados Brazo: 0\n",
      "b90\r\n",
      "Grados AnteBrazo: 90\n",
      "c-90\r\n",
      "Grados Muneca: -90\n"
     ]
    }
   ],
   "source": [
    "RA3GL.posIK(455, 1914)"
   ]
  },
  {
   "cell_type": "code",
   "execution_count": null,
   "metadata": {
    "collapsed": true
   },
   "outputs": [],
   "source": []
  }
 ],
 "metadata": {
  "kernelspec": {
   "display_name": "Python 2",
   "language": "python",
   "name": "python2"
  },
  "language_info": {
   "codemirror_mode": {
    "name": "ipython",
    "version": 2
   },
   "file_extension": ".py",
   "mimetype": "text/x-python",
   "name": "python",
   "nbconvert_exporter": "python",
   "pygments_lexer": "ipython2",
   "version": "2.7.5"
  }
 },
 "nbformat": 4,
 "nbformat_minor": 0
}
